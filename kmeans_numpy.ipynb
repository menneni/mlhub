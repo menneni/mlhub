{
 "cells": [
  {
   "cell_type": "code",
   "execution_count": 2,
   "metadata": {
    "collapsed": true
   },
   "outputs": [],
   "source": [
    "import numpy as np\n",
    "import matplotlib.pyplot as plt\n",
    "import seaborn as sns\n",
    "import pandas as pd"
   ]
  },
  {
   "cell_type": "code",
   "execution_count": 3,
   "metadata": {
    "collapsed": true
   },
   "outputs": [],
   "source": [
    "num_points = 2000\n",
    "k = 3\n",
    "num_steps = 100\n",
    "points_in_space = []\n",
    "\n",
    "for _ in xrange(num_points):\n",
    "    if np.random.random() > 0.2:\n",
    "        points_in_space.append([np.random.normal(0.0,0.9), np.random.normal(0.0,0.9)])\n",
    "    else:\n",
    "        points_in_space.append([np.random.normal(3.0,0.5), np.random.normal(3.0,0.5)])"
   ]
  },
  {
   "cell_type": "code",
   "execution_count": 4,
   "metadata": {
    "collapsed": true
   },
   "outputs": [],
   "source": [
    "df = pd.DataFrame({\"x\":[p[0] for p in points_in_space], \"y\": [p[1] for p in points_in_space]})\n",
    "sns.lmplot(\"x\", \"y\", data = df, fit_reg = False, size = 6)\n",
    "plt.show()"
   ]
  },
  {
   "cell_type": "code",
   "execution_count": 8,
   "metadata": {
    "collapsed": false
   },
   "outputs": [
    {
     "name": "stdout",
     "output_type": "stream",
     "text": [
      "[array([-0.40449424, -0.35213531]), array([-1.07755533, -0.31129898]), array([-0.71049947, -0.63996222]), array([ 3.02254826,  1.87563059])]\n"
     ]
    }
   ],
   "source": [
    "pis = np.asarray(points_in_space)\n",
    "centroids = [0]*4\n",
    "centroids[0] = pis[22]\n",
    "centroids[1] = pis[222]\n",
    "centroids[2] = pis[888]\n",
    "centroids[3] = pis[333]\n",
    "np.random.shuffle(pis)\n",
    "print centroids"
   ]
  },
  {
   "cell_type": "code",
   "execution_count": 9,
   "metadata": {
    "collapsed": false
   },
   "outputs": [],
   "source": [
    "for m in xrange(num_steps):\n",
    "    dist_pairwise = []\n",
    "    for c in xrange(k):\n",
    "        dist_pairwise.append(pis - centroids[c])\n",
    "    dist_pairwise = np.asarray(dist_pairwise)\n",
    "\n",
    "    eu_dist = np.sum(np.square(dist_pairwise),axis = 2)\n",
    "    nearest_centroids = np.argmin(eu_dist, axis = 0)\n",
    "\n",
    "    groups = []\n",
    "    means = []\n",
    "    for c in range(k):\n",
    "        I = []\n",
    "        I = np.where(nearest_centroids == c)[0]\n",
    "        I = np.split(I,len(I))\n",
    "        I = np.c_[I,np.ones(len(I))].astype(np.int64)\n",
    "        groups.append(np.take(points_in_space,I))\n",
    "        means.append(np.mean(groups[c],axis = 0))\n",
    "\n",
    "    centroids = means\n",
    "    #print centroids"
   ]
  },
  {
   "cell_type": "code",
   "execution_count": 10,
   "metadata": {
    "collapsed": false
   },
   "outputs": [],
   "source": [
    "data = {\"x\": [], \"y\": [], \"cluster\": []}\n",
    "\n",
    "for i in xrange(num_points):\n",
    "    data[\"x\"].append(points_in_space[i][0])\n",
    "    data[\"y\"].append(points_in_space[i][1])\n",
    "    data[\"cluster\"].append(nearest_centroids[i])\n",
    "\n",
    "df = pd.DataFrame(data)\n",
    "sns.lmplot(\"x\", \"y\", data = df, fit_reg = False, hue = \"cluster\", legend = False)\n",
    "plt.show()"
   ]
  },
  {
   "cell_type": "code",
   "execution_count": null,
   "metadata": {
    "collapsed": true
   },
   "outputs": [],
   "source": []
  }
 ],
 "metadata": {
  "kernelspec": {
   "display_name": "Python 2",
   "language": "python",
   "name": "python2"
  },
  "language_info": {
   "codemirror_mode": {
    "name": "ipython",
    "version": 2
   },
   "file_extension": ".py",
   "mimetype": "text/x-python",
   "name": "python",
   "nbconvert_exporter": "python",
   "pygments_lexer": "ipython2",
   "version": "2.7.12"
  }
 },
 "nbformat": 4,
 "nbformat_minor": 0
}
